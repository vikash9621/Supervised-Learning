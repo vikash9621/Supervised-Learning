{
  "nbformat": 4,
  "nbformat_minor": 0,
  "metadata": {
    "colab": {
      "provenance": []
    },
    "kernelspec": {
      "name": "python3",
      "display_name": "Python 3"
    },
    "language_info": {
      "name": "python"
    }
  },
  "cells": [
    {
      "cell_type": "markdown",
      "source": [
        "#1. What is Simple Linear Regression (SLR)? Explain its purpose.\n",
        "\n",
        "->Simple Linear Regression (SLR) is a statistical technique used to model the relationship between one independent variable (predictor) and one dependent variable (response) by fitting a straight line through the data.\n",
        "Its purpose is to predict the value of the dependent variable based on the independent variable and to understand how changes in the independent variable affect the dependent variable.\n",
        "\n",
        "#2. What are the key assumptions of Simple Linear Regression?\n",
        "\n",
        "The key assumptions of SLR are:\n",
        "\n",
        "-> Linearity: The relationship between X and Y is linear.\n",
        "\n",
        "-> Independence: Observations are independent of each other.\n",
        "\n",
        "-> Homoscedasticity: The variance of errors is constant across all levels of X.\n",
        "\n",
        "-> Normality: Residuals (errors) are normally distributed.\n",
        "\n",
        "-> No Multicollinearity: (Applies when there are multiple predictors) – predictors should not be highly correlated.\n",
        "\n",
        "#3. Write the mathematical equation for a simple linear regression model and explain each term.\n",
        "\n",
        "\n",
        "Y=β0​+β1​X+ε\n",
        "\n",
        "Where:\n",
        "\n",
        "Y: Dependent variable (target)\n",
        "\n",
        "X: Independent variable (predictor)\n",
        "\n",
        "β0: Intercept (value of Y when X = 0)\n",
        "\n",
        "𝛽1: Slope (change in Y for a one-unit change in X)\n",
        "\n",
        "ε: Error term (captures random noise)\n",
        "\n",
        "#4. Provide a real-world example where simple linear regression can be applied.\n",
        "\n",
        "->A company can use simple linear regression to predict sales (Y) based on advertising expenditure (X). This helps understand how an increase in ad spending influences sales revenue.\n",
        "\n",
        "#5.What is the method of least squares in linear regression?\n",
        "\n",
        "->The method of least squares is a mathematical approach used to find the best-fitting line by minimizing the sum of the squared differences between the observed and predicted values.\n",
        "It ensures that the regression line has the smallest possible prediction error.\n",
        "\n",
        "#6. What is Logistic Regression? How does it differ from Linear Regression?\n",
        "\n",
        "->Logistic Regression is a classification algorithm used to predict the probability of a categorical outcome (usually binary: 0 or 1). It uses the sigmoid (logistic) function to map predicted values to probabilities between 0 and 1.\n",
        "\n",
        "Differences:\n",
        "\n",
        "     Aspect->\t Linear Regression\t          Logistic Regression\n",
        "     Output\t->   Continuous value\t            Probability (0–1)\n",
        "     Purpose->\t Predict numerical values\t    Classify outcomes\n",
        "     Function->\t Linear equation\t            Sigmoid function\n",
        "     Error Metric->\tMSE (Mean Squared Error)\tLog Loss or Cross-Entropy\n",
        "\n",
        "\n",
        "#7. Name and briefly describe three common evaluation metrics for regression models.\n",
        "\n",
        "-> Mean Absolute Error (MAE): Average of absolute differences between actual and predicted values.\n",
        "\n",
        "-> Mean Squared Error (MSE): Average of squared differences between actual and predicted values.\n",
        "\n",
        "-> R-squared (R²): Measures how well the regression model explains the variability of the dependent variable.\n",
        "\n",
        "#8. What is the purpose of the R-squared metric in regression analysis?\n",
        "\n",
        "->R-squared represents the proportion of variance in the dependent variable that can be explained by the independent variable(s).\n",
        "It ranges from 0 to 1:\n",
        "\n",
        "𝑅2=1: Perfect fit\n",
        "\n",
        "R2=0: Model explains no variance\n",
        "\n"
      ],
      "metadata": {
        "id": "VxyyR8-LM0GI"
      }
    },
    {
      "cell_type": "code",
      "source": [
        "#9. Write Python code to fit a simple linear regression model using scikit-learn and print the slope and intercept.\n",
        "# Import necessary libraries\n",
        "import numpy as np\n",
        "from sklearn.linear_model import LinearRegression\n",
        "\n",
        "# Sample data\n",
        "X = np.array([[1], [2], [3], [4], [5]])\n",
        "y = np.array([2, 4, 5, 4, 5])\n",
        "\n",
        "# Create and fit the model\n",
        "model = LinearRegression()\n",
        "model.fit(X, y)\n",
        "\n",
        "# Print slope and intercept\n",
        "print(\"Slope (β1):\", model.coef_[0])\n",
        "print(\"Intercept (β0):\", model.intercept_)\n"
      ],
      "metadata": {
        "colab": {
          "base_uri": "https://localhost:8080/"
        },
        "id": "mCHv88FUQIt_",
        "outputId": "7179f3f1-1eb0-41e1-c5e0-857177a8d924"
      },
      "execution_count": 1,
      "outputs": [
        {
          "output_type": "stream",
          "name": "stdout",
          "text": [
            "Slope (β1): 0.6\n",
            "Intercept (β0): 2.2\n"
          ]
        }
      ]
    },
    {
      "cell_type": "markdown",
      "source": [
        "#10. How do you interpret the coefficients in a simple linear regression model?\n",
        "\n",
        "Intercept (β₀): The expected value of Y when X = 0.\n",
        "\n",
        "Slope (β₁): Represents how much Y changes for a one-unit increase in X.\n",
        "\n",
        "If β₁ > 0 → Y increases as X increases.\n",
        "\n",
        "If β₁ < 0 → Y decreases as X increases"
      ],
      "metadata": {
        "id": "P9RdlyglQW8i"
      }
    },
    {
      "cell_type": "code",
      "source": [],
      "metadata": {
        "id": "VIh5RGjBQOIF"
      },
      "execution_count": null,
      "outputs": []
    }
  ]
}